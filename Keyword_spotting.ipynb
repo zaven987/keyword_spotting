{
  "nbformat": 4,
  "nbformat_minor": 0,
  "metadata": {
    "colab": {
      "provenance": [],
      "gpuType": "T4",
      "authorship_tag": "ABX9TyPBZKZk5O3JoHgQIlCiCP36",
      "include_colab_link": true
    },
    "kernelspec": {
      "name": "python3",
      "display_name": "Python 3"
    },
    "language_info": {
      "name": "python"
    },
    "accelerator": "GPU"
  },
  "cells": [
    {
      "cell_type": "markdown",
      "metadata": {
        "id": "view-in-github",
        "colab_type": "text"
      },
      "source": [
        "<a href=\"https://colab.research.google.com/github/zaven987/keyword_spotting/blob/main/Keyword_spotting.ipynb\" target=\"_parent\"><img src=\"https://colab.research.google.com/assets/colab-badge.svg\" alt=\"Open In Colab\"/></a>"
      ]
    },
    {
      "cell_type": "markdown",
      "source": [
        "### Cloning Repository"
      ],
      "metadata": {
        "id": "AxCKyCcnK1JP"
      }
    },
    {
      "cell_type": "code",
      "execution_count": 1,
      "metadata": {
        "id": "WXtnz2JFpBPK",
        "outputId": "fe5e9f8a-6a17-4ddc-94f8-c59e1cd1c188",
        "colab": {
          "base_uri": "https://localhost:8080/"
        }
      },
      "outputs": [
        {
          "output_type": "stream",
          "name": "stdout",
          "text": [
            "Cloning into 'keyword_spotting'...\n",
            "remote: Enumerating objects: 22, done.\u001b[K\n",
            "remote: Counting objects: 100% (22/22), done.\u001b[K\n",
            "remote: Compressing objects: 100% (19/19), done.\u001b[K\n",
            "remote: Total 22 (delta 7), reused 0 (delta 0), pack-reused 0\u001b[K\n",
            "Unpacking objects: 100% (22/22), 4.99 KiB | 1.25 MiB/s, done.\n"
          ]
        }
      ],
      "source": [
        "!git clone https://github.com/zaven987/keyword_spotting.git"
      ]
    },
    {
      "cell_type": "markdown",
      "source": [
        "### Downloading Data"
      ],
      "metadata": {
        "id": "zezVrqb0Luph"
      }
    },
    {
      "cell_type": "code",
      "source": [
        "!wget http://download.tensorflow.org/data/speech_commands_v0.02.tar.gz\n",
        "!mkdir ./data\n",
        "!tar -xf ./speech_commands_v0.02.tar.gz -C ./data"
      ],
      "metadata": {
        "colab": {
          "base_uri": "https://localhost:8080/"
        },
        "id": "3fKXw0AvLuIj",
        "outputId": "bb1c11a2-d0b4-4661-ef30-f073fad4ee16"
      },
      "execution_count": 3,
      "outputs": [
        {
          "output_type": "stream",
          "name": "stdout",
          "text": [
            "--2023-06-06 14:51:33--  http://download.tensorflow.org/data/speech_commands_v0.02.tar.gz\n",
            "Resolving download.tensorflow.org (download.tensorflow.org)... 142.250.97.128, 2607:f8b0:400c:c18::80\n",
            "Connecting to download.tensorflow.org (download.tensorflow.org)|142.250.97.128|:80... connected.\n",
            "HTTP request sent, awaiting response... 200 OK\n",
            "Length: 2428923189 (2.3G) [application/gzip]\n",
            "Saving to: ‘speech_commands_v0.02.tar.gz’\n",
            "\n",
            "speech_commands_v0. 100%[===================>]   2.26G   234MB/s    in 14s     \n",
            "\n",
            "2023-06-06 14:51:47 (168 MB/s) - ‘speech_commands_v0.02.tar.gz’ saved [2428923189/2428923189]\n",
            "\n"
          ]
        }
      ]
    },
    {
      "cell_type": "markdown",
      "source": [
        "### Importing Files and Libraries"
      ],
      "metadata": {
        "id": "4ZBy2XGRLhdd"
      }
    },
    {
      "cell_type": "code",
      "source": [
        "from keyword_spotting.data_plotting import *\n",
        "from keyword_spotting.spectrogram import *\n",
        "from keyword_spotting.data_processing import *"
      ],
      "metadata": {
        "id": "KyISEizRLsHZ"
      },
      "execution_count": 5,
      "outputs": []
    },
    {
      "cell_type": "code",
      "source": [
        "import tensorflow as tf\n",
        "import numpy as np \n",
        "import pandas as pd"
      ],
      "metadata": {
        "id": "1FdF2qTALgpG"
      },
      "execution_count": null,
      "outputs": []
    }
  ]
}